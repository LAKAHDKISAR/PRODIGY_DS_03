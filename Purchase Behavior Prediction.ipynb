{
 "cells": [
  {
   "cell_type": "markdown",
   "id": "1124c675-62b4-4f8c-9751-5fd48570993e",
   "metadata": {},
   "source": [
    "### About Dataset"
   ]
  },
  {
   "cell_type": "markdown",
   "id": "6dca5cc2-e9db-4c55-b7cc-97e72d612922",
   "metadata": {},
   "source": [
    "Customer Purchases Behaviour Dataset\n",
    "\n",
    "Subtitle:\n",
    "Simulated Dataset of Customer Purchase Behavior\n",
    "\n",
    "Description:\n",
    "This dataset contains simulated data representing customer purchase behavior. It includes various features such as age, gender, income, education, region, loyalty status, purchase frequency, purchase amount, product category, promotion usage, and satisfaction score.\n",
    "\n",
    "File Information:\n",
    "* File Format: CSV\n",
    "* Number of Rows: 100000\n",
    "* Number of Columns: 12\n",
    "\n",
    "Column Descriptors:\n",
    "* age: Age of the customer.\n",
    "* gender: Gender of the customer (0 for Male, 1 for Female).\n",
    "* income: Annual income of the customer.\n",
    "* education: Education level of the customer.\n",
    "* region: Region where the customer resides.\n",
    "* loyalty_status: Loyalty status of the customer.\n",
    "* purchase_frequency: Frequency of purchases made by the customer.\n",
    "* purchase_amount: Amount spent by the customer in each purchase.\n",
    "* product_category: Category of the purchased product.\n",
    "* promotion_usage: Indicates whether the customer used promotional offers (0 for No, 1 for Yes).\n",
    "* satisfaction_score: Satisfaction score of the customer.\n",
    "\n",
    "https://www.kaggle.com/datasets/sanyamgoyal401/customer-purchases-behaviour-dataset"
   ]
  },
  {
   "cell_type": "markdown",
   "id": "e3998472-f2b4-4fe4-a973-2bb81e897634",
   "metadata": {},
   "source": [
    "### Objective"
   ]
  },
  {
   "cell_type": "markdown",
   "id": "93fe8d84-f255-4d53-8ea8-b9d8a5b3ad59",
   "metadata": {},
   "source": [
    "To build a model that predicts whether a customer will make a purchase based on their demographic and behavioral data."
   ]
  },
  {
   "cell_type": "markdown",
   "id": "a486a627-5b4d-41d6-beb3-07505e17c692",
   "metadata": {},
   "source": [
    "### Snapshot"
   ]
  },
  {
   "cell_type": "markdown",
   "id": "3fef3756-b43b-4702-b540-3bd48b10149a",
   "metadata": {},
   "source": [
    "![Snapshot](Snap.png)"
   ]
  },
  {
   "cell_type": "code",
   "execution_count": 4,
   "id": "6a3b44fc-d782-49da-a18c-2fa0e6b22b02",
   "metadata": {},
   "outputs": [],
   "source": [
    "import pandas as pd             \n",
    "import numpy as np\n",
    "from sklearn.metrics import precision_recall_curve\n",
    "import matplotlib.pyplot as plt \n",
    "%matplotlib inline\n",
    "import seaborn as sns\n",
    "from sklearn.model_selection import train_test_split\n",
    "from sklearn.preprocessing import LabelEncoder \n",
    "from sklearn.ensemble import RandomForestClassifier\n",
    "from sklearn.tree import DecisionTreeClassifier, export_graphviz\n",
    "from sklearn.metrics import accuracy_score, confusion_matrix, classification_report\n",
    "import graphviz"
   ]
  },
  {
   "cell_type": "code",
   "execution_count": 6,
   "id": "638b95b2-d45e-4c17-af6e-ce8dff570c59",
   "metadata": {},
   "outputs": [],
   "source": [
    "df = pd.read_csv('customer_data.csv')"
   ]
  },
  {
   "cell_type": "code",
   "execution_count": 8,
   "id": "732d3f9a-4aae-48be-9369-f8993fe42763",
   "metadata": {},
   "outputs": [
    {
     "name": "stdout",
     "output_type": "stream",
     "text": [
      "<class 'pandas.core.frame.DataFrame'>\n",
      "RangeIndex: 100000 entries, 0 to 99999\n",
      "Data columns (total 12 columns):\n",
      " #   Column              Non-Null Count   Dtype \n",
      "---  ------              --------------   ----- \n",
      " 0   id                  100000 non-null  int64 \n",
      " 1   age                 100000 non-null  int64 \n",
      " 2   gender              100000 non-null  object\n",
      " 3   income              100000 non-null  int64 \n",
      " 4   education           100000 non-null  object\n",
      " 5   region              100000 non-null  object\n",
      " 6   loyalty_status      100000 non-null  object\n",
      " 7   purchase_frequency  100000 non-null  object\n",
      " 8   purchase_amount     100000 non-null  int64 \n",
      " 9   product_category    100000 non-null  object\n",
      " 10  promotion_usage     100000 non-null  int64 \n",
      " 11  satisfaction_score  100000 non-null  int64 \n",
      "dtypes: int64(6), object(6)\n",
      "memory usage: 9.2+ MB\n"
     ]
    }
   ],
   "source": [
    "df.info()"
   ]
  },
  {
   "cell_type": "code",
   "execution_count": 10,
   "id": "7c4a14bc-3b99-4c02-8224-54d50db14035",
   "metadata": {},
   "outputs": [
    {
     "data": {
      "text/plain": [
       "(100000, 12)"
      ]
     },
     "execution_count": 10,
     "metadata": {},
     "output_type": "execute_result"
    }
   ],
   "source": [
    "df.shape "
   ]
  },
  {
   "cell_type": "code",
   "execution_count": 12,
   "id": "b38e9f8a-508d-4027-9bf7-8a401247da40",
   "metadata": {},
   "outputs": [
    {
     "data": {
      "text/plain": [
       "Index(['id', 'age', 'gender', 'income', 'education', 'region',\n",
       "       'loyalty_status', 'purchase_frequency', 'purchase_amount',\n",
       "       'product_category', 'promotion_usage', 'satisfaction_score'],\n",
       "      dtype='object')"
      ]
     },
     "execution_count": 12,
     "metadata": {},
     "output_type": "execute_result"
    }
   ],
   "source": [
    "df.columns "
   ]
  },
  {
   "cell_type": "code",
   "execution_count": 14,
   "id": "41fe349c-4688-4114-a13c-5ea3f54c63d2",
   "metadata": {},
   "outputs": [
    {
     "name": "stdout",
     "output_type": "stream",
     "text": [
      "0\n"
     ]
    }
   ],
   "source": [
    "print(df.isnull().values.sum())"
   ]
  },
  {
   "cell_type": "code",
   "execution_count": 16,
   "id": "bdffa28f-0214-49cd-9372-f42e5bab239c",
   "metadata": {},
   "outputs": [
    {
     "name": "stdout",
     "output_type": "stream",
     "text": [
      "          id    age  gender  income  education  region  loyalty_status  \\\n",
      "0      False  False   False   False      False   False           False   \n",
      "1      False  False   False   False      False   False           False   \n",
      "2      False  False   False   False      False   False           False   \n",
      "3      False  False   False   False      False   False           False   \n",
      "4      False  False   False   False      False   False           False   \n",
      "...      ...    ...     ...     ...        ...     ...             ...   \n",
      "99995  False  False   False   False      False   False           False   \n",
      "99996  False  False   False   False      False   False           False   \n",
      "99997  False  False   False   False      False   False           False   \n",
      "99998  False  False   False   False      False   False           False   \n",
      "99999  False  False   False   False      False   False           False   \n",
      "\n",
      "       purchase_frequency  purchase_amount  product_category  promotion_usage  \\\n",
      "0                   False            False             False            False   \n",
      "1                   False            False             False            False   \n",
      "2                   False            False             False            False   \n",
      "3                   False            False             False            False   \n",
      "4                   False            False             False            False   \n",
      "...                   ...              ...               ...              ...   \n",
      "99995               False            False             False            False   \n",
      "99996               False            False             False            False   \n",
      "99997               False            False             False            False   \n",
      "99998               False            False             False            False   \n",
      "99999               False            False             False            False   \n",
      "\n",
      "       satisfaction_score  \n",
      "0                   False  \n",
      "1                   False  \n",
      "2                   False  \n",
      "3                   False  \n",
      "4                   False  \n",
      "...                   ...  \n",
      "99995               False  \n",
      "99996               False  \n",
      "99997               False  \n",
      "99998               False  \n",
      "99999               False  \n",
      "\n",
      "[100000 rows x 12 columns]\n"
     ]
    }
   ],
   "source": [
    "print(df.isnull())"
   ]
  },
  {
   "cell_type": "markdown",
   "id": "d562d15b-5c25-4754-b13d-8b98ed00003a",
   "metadata": {},
   "source": [
    "### Since there are no missing value let's proceed with decision tree classifier"
   ]
  },
  {
   "cell_type": "code",
   "execution_count": 19,
   "id": "11e02f5c-ff78-4278-a28f-8d9567491457",
   "metadata": {},
   "outputs": [],
   "source": [
    "label_encoders = {}\n",
    "for column in df.select_dtypes(include=['object']).columns:\n",
    "    if column != 'purchase_frequency':\n",
    "        label_encoders[column] = LabelEncoder()\n",
    "        df[column] = label_encoders[column].fit_transform(df[column])\n",
    "\n",
    "\n",
    "X = df.drop(columns='purchase_frequency')  \n",
    "y = df['purchase_frequency']  \n",
    "\n",
    "X_train, X_test, y_train, y_test = train_test_split(X, y, test_size=0.2, random_state=42)\n"
   ]
  },
  {
   "cell_type": "code",
   "execution_count": 21,
   "id": "4f5d671b-911b-419f-9b33-e7f311a0318b",
   "metadata": {},
   "outputs": [
    {
     "data": {
      "text/html": [
       "<style>#sk-container-id-1 {color: black;}#sk-container-id-1 pre{padding: 0;}#sk-container-id-1 div.sk-toggleable {background-color: white;}#sk-container-id-1 label.sk-toggleable__label {cursor: pointer;display: block;width: 100%;margin-bottom: 0;padding: 0.3em;box-sizing: border-box;text-align: center;}#sk-container-id-1 label.sk-toggleable__label-arrow:before {content: \"▸\";float: left;margin-right: 0.25em;color: #696969;}#sk-container-id-1 label.sk-toggleable__label-arrow:hover:before {color: black;}#sk-container-id-1 div.sk-estimator:hover label.sk-toggleable__label-arrow:before {color: black;}#sk-container-id-1 div.sk-toggleable__content {max-height: 0;max-width: 0;overflow: hidden;text-align: left;background-color: #f0f8ff;}#sk-container-id-1 div.sk-toggleable__content pre {margin: 0.2em;color: black;border-radius: 0.25em;background-color: #f0f8ff;}#sk-container-id-1 input.sk-toggleable__control:checked~div.sk-toggleable__content {max-height: 200px;max-width: 100%;overflow: auto;}#sk-container-id-1 input.sk-toggleable__control:checked~label.sk-toggleable__label-arrow:before {content: \"▾\";}#sk-container-id-1 div.sk-estimator input.sk-toggleable__control:checked~label.sk-toggleable__label {background-color: #d4ebff;}#sk-container-id-1 div.sk-label input.sk-toggleable__control:checked~label.sk-toggleable__label {background-color: #d4ebff;}#sk-container-id-1 input.sk-hidden--visually {border: 0;clip: rect(1px 1px 1px 1px);clip: rect(1px, 1px, 1px, 1px);height: 1px;margin: -1px;overflow: hidden;padding: 0;position: absolute;width: 1px;}#sk-container-id-1 div.sk-estimator {font-family: monospace;background-color: #f0f8ff;border: 1px dotted black;border-radius: 0.25em;box-sizing: border-box;margin-bottom: 0.5em;}#sk-container-id-1 div.sk-estimator:hover {background-color: #d4ebff;}#sk-container-id-1 div.sk-parallel-item::after {content: \"\";width: 100%;border-bottom: 1px solid gray;flex-grow: 1;}#sk-container-id-1 div.sk-label:hover label.sk-toggleable__label {background-color: #d4ebff;}#sk-container-id-1 div.sk-serial::before {content: \"\";position: absolute;border-left: 1px solid gray;box-sizing: border-box;top: 0;bottom: 0;left: 50%;z-index: 0;}#sk-container-id-1 div.sk-serial {display: flex;flex-direction: column;align-items: center;background-color: white;padding-right: 0.2em;padding-left: 0.2em;position: relative;}#sk-container-id-1 div.sk-item {position: relative;z-index: 1;}#sk-container-id-1 div.sk-parallel {display: flex;align-items: stretch;justify-content: center;background-color: white;position: relative;}#sk-container-id-1 div.sk-item::before, #sk-container-id-1 div.sk-parallel-item::before {content: \"\";position: absolute;border-left: 1px solid gray;box-sizing: border-box;top: 0;bottom: 0;left: 50%;z-index: -1;}#sk-container-id-1 div.sk-parallel-item {display: flex;flex-direction: column;z-index: 1;position: relative;background-color: white;}#sk-container-id-1 div.sk-parallel-item:first-child::after {align-self: flex-end;width: 50%;}#sk-container-id-1 div.sk-parallel-item:last-child::after {align-self: flex-start;width: 50%;}#sk-container-id-1 div.sk-parallel-item:only-child::after {width: 0;}#sk-container-id-1 div.sk-dashed-wrapped {border: 1px dashed gray;margin: 0 0.4em 0.5em 0.4em;box-sizing: border-box;padding-bottom: 0.4em;background-color: white;}#sk-container-id-1 div.sk-label label {font-family: monospace;font-weight: bold;display: inline-block;line-height: 1.2em;}#sk-container-id-1 div.sk-label-container {text-align: center;}#sk-container-id-1 div.sk-container {/* jupyter's `normalize.less` sets `[hidden] { display: none; }` but bootstrap.min.css set `[hidden] { display: none !important; }` so we also need the `!important` here to be able to override the default hidden behavior on the sphinx rendered scikit-learn.org. See: https://github.com/scikit-learn/scikit-learn/issues/21755 */display: inline-block !important;position: relative;}#sk-container-id-1 div.sk-text-repr-fallback {display: none;}</style><div id=\"sk-container-id-1\" class=\"sk-top-container\"><div class=\"sk-text-repr-fallback\"><pre>DecisionTreeClassifier(random_state=42)</pre><b>In a Jupyter environment, please rerun this cell to show the HTML representation or trust the notebook. <br />On GitHub, the HTML representation is unable to render, please try loading this page with nbviewer.org.</b></div><div class=\"sk-container\" hidden><div class=\"sk-item\"><div class=\"sk-estimator sk-toggleable\"><input class=\"sk-toggleable__control sk-hidden--visually\" id=\"sk-estimator-id-1\" type=\"checkbox\" checked><label for=\"sk-estimator-id-1\" class=\"sk-toggleable__label sk-toggleable__label-arrow\">DecisionTreeClassifier</label><div class=\"sk-toggleable__content\"><pre>DecisionTreeClassifier(random_state=42)</pre></div></div></div></div></div>"
      ],
      "text/plain": [
       "DecisionTreeClassifier(random_state=42)"
      ]
     },
     "execution_count": 21,
     "metadata": {},
     "output_type": "execute_result"
    }
   ],
   "source": [
    "clf = DecisionTreeClassifier(random_state=42)\n",
    "\n",
    "clf.fit(X_train, y_train)"
   ]
  },
  {
   "cell_type": "code",
   "execution_count": 23,
   "id": "3a515c2c-a215-4057-9d66-4db85185ed5b",
   "metadata": {},
   "outputs": [
    {
     "name": "stdout",
     "output_type": "stream",
     "text": [
      "Accuracy: 0.3735\n",
      "Confusion Matrix:\n",
      "[[ 874 1188 1898]\n",
      " [1300 1775 2934]\n",
      " [2115 3095 4821]]\n",
      "Classification Report:\n",
      "              precision    recall  f1-score   support\n",
      "\n",
      "    frequent       0.20      0.22      0.21      3960\n",
      "  occasional       0.29      0.30      0.29      6009\n",
      "        rare       0.50      0.48      0.49     10031\n",
      "\n",
      "    accuracy                           0.37     20000\n",
      "   macro avg       0.33      0.33      0.33     20000\n",
      "weighted avg       0.38      0.37      0.38     20000\n",
      "\n"
     ]
    }
   ],
   "source": [
    "y_pred = clf.predict(X_test)\n",
    "\n",
    "accuracy = accuracy_score(y_test, y_pred)\n",
    "print(f\"Accuracy: {accuracy}\")\n",
    "\n",
    "print(\"Confusion Matrix:\")\n",
    "print(confusion_matrix(y_test, y_pred))\n",
    "\n",
    "print(\"Classification Report:\")\n",
    "print(classification_report(y_test, y_pred))"
   ]
  },
  {
   "cell_type": "code",
   "execution_count": 25,
   "id": "14164a1c-c634-4075-bb0c-6a2c3f3ff678",
   "metadata": {},
   "outputs": [
    {
     "name": "stdout",
     "output_type": "stream",
     "text": [
      "Random Forest Accuracy: 0.4779\n",
      "Confusion Matrix:\n",
      "[[  62  389 3509]\n",
      " [  92  614 5303]\n",
      " [ 174  975 8882]]\n",
      "Classification Report:\n",
      "              precision    recall  f1-score   support\n",
      "\n",
      "    frequent       0.19      0.02      0.03      3960\n",
      "  occasional       0.31      0.10      0.15      6009\n",
      "        rare       0.50      0.89      0.64     10031\n",
      "\n",
      "    accuracy                           0.48     20000\n",
      "   macro avg       0.33      0.33      0.27     20000\n",
      "weighted avg       0.38      0.48      0.37     20000\n",
      "\n"
     ]
    }
   ],
   "source": [
    "clf_rf = RandomForestClassifier(n_estimators=100, random_state=42)\n",
    "\n",
    "# Train the classifier\n",
    "clf_rf.fit(X_train, y_train)\n",
    "\n",
    "# Predict on the test set\n",
    "y_pred_rf = clf_rf.predict(X_test)\n",
    "\n",
    "# Evaluate accuracy\n",
    "accuracy_rf = accuracy_score(y_test, y_pred_rf)\n",
    "print(f\"Random Forest Accuracy: {accuracy_rf}\")\n",
    "\n",
    "# Display the confusion matrix\n",
    "print(\"Confusion Matrix:\")\n",
    "print(confusion_matrix(y_test, y_pred_rf))\n",
    "\n",
    "# Display the classification report\n",
    "print(\"Classification Report:\")\n",
    "print(classification_report(y_test, y_pred_rf))"
   ]
  },
  {
   "cell_type": "markdown",
   "id": "9972c17c-267a-45a9-9201-f56bda0485df",
   "metadata": {},
   "source": [
    "### Conclusion"
   ]
  },
  {
   "cell_type": "markdown",
   "id": "dfeed0db-b3dd-4f67-90d9-a01a5ad40fa0",
   "metadata": {},
   "source": [
    "The model achieved an accuracy of 37.35%, providing insights into factors influencing purchase decisions such as income, education, and satisfaction score. For improved accuracy and balanced predictions across purchase frequency categories (frequent, occasional, rare), a Random Forest model was also evaluated, achieving 47.79% accuracy.\n",
    "\n",
    "In conclusion, while the decision tree provided valuable insights, the Random Forest model demonstrated superior performance, making it a suitable choice for predicting customer purchases based on the given dataset."
   ]
  },
  {
   "cell_type": "code",
   "execution_count": null,
   "id": "0038e7ef-4b2c-4428-a45b-b54fcb4ff12b",
   "metadata": {},
   "outputs": [],
   "source": [
    "from IPython.display import display\n",
    "\n",
    "dot_data = export_graphviz(clf, out_file=None, feature_names=X.columns, class_names=clf.classes_.astype(str), filled=True, rounded=True, special_characters=True)\n",
    "\n",
    "graph = graphviz.Source(dot_data)\n",
    "graph.render(\"decision_tree\")  \n",
    "\n",
    "display(graph)\n"
   ]
  },
  {
   "cell_type": "code",
   "execution_count": null,
   "id": "cf516d0b-572e-4593-bad0-d2a8ca8feac4",
   "metadata": {},
   "outputs": [],
   "source": []
  }
 ],
 "metadata": {
  "kernelspec": {
   "display_name": "Python 3 (ipykernel)",
   "language": "python",
   "name": "python3"
  },
  "language_info": {
   "codemirror_mode": {
    "name": "ipython",
    "version": 3
   },
   "file_extension": ".py",
   "mimetype": "text/x-python",
   "name": "python",
   "nbconvert_exporter": "python",
   "pygments_lexer": "ipython3",
   "version": "3.11.6"
  }
 },
 "nbformat": 4,
 "nbformat_minor": 5
}
